{
 "cells": [
  {
   "cell_type": "markdown",
   "metadata": {},
   "source": [
    "<table class=\"table table-bordered\">\n",
    "    <tr>\n",
    "        <th style=\"text-align:center; width:35%\"><img src='https://dl.dropbox.com/s/qtzukmzqavebjd2/icon_smu.jpg' style=\"width: 300px; height: 90px; \"></th>\n",
    "        <th style=\"text-align:center;\"><h3>ISSS617 - Python for Data Science</h3><h3>Quiz 1</h3><h3>Spring 2020</h3></th>\n",
    "    </tr>\n",
    "</table>"
   ]
  },
  {
   "cell_type": "code",
   "execution_count": null,
   "metadata": {},
   "outputs": [],
   "source": []
  },
  {
   "cell_type": "markdown",
   "metadata": {},
   "source": [
    "## Question 1 \n",
    "- 25 points"
   ]
  },
  {
   "cell_type": "markdown",
   "metadata": {},
   "source": [
    "### Valentine Number Pair\n",
    "\n",
    "A pair of numbers, (a,b), is called \"Valentine Number Pair\" if the sum of all of the proper divisors of either of the two (excluding itself) equals the other. For example, (220, 284) is such a pair because the list of all proper divisors of 220, [1, 2, 4, 5, 10, 11, 20, 22, 44, 55, 110], sums to 284, while the list of all proper divisors of 284, [1, 2, 4, 71, 142], sums to 220. \n",
    "\n",
    "\n",
    "Write the code for a function named \"IsValentinePair(a,b)\":\n",
    "\n",
    "- Your function would take a pair positive integer values. \n",
    "- If the value pair (a,b) is a \"Valentine Number Pair\", print out all the proper divisors of both numbers, in the format of a:[list of all proper divisors of a] and b [list of all proper divisors of b]. \n",
    "- If the input value (a,b) is not a \"Valentine Number Pair\", print out \"This pair of values is not a Valentine Number Pair!\". \n",
    "\n"
   ]
  },
  {
   "cell_type": "markdown",
   "metadata": {},
   "source": [
    "- Your Pseudo-code here\n",
    "\n"
   ]
  },
  {
   "cell_type": "markdown",
   "metadata": {},
   "source": [
    "You receive two inputs a,b.\n",
    "Declare two lists: factor1, factor2\n",
    "Declare sum1, sum2\n",
    "Go through the loop to find the factors of a, b\n",
    "add each factor to sum1, sum2\n",
    "If it's a valentine pair, print valentine pair\n",
    "If it's not a valentine pair, print that it's not a valentine pair"
   ]
  },
  {
   "cell_type": "code",
   "execution_count": 82,
   "metadata": {},
   "outputs": [],
   "source": [
    "# Your code here\n",
    "\n",
    "def IsValentinePair(a,b):\n",
    "    factor1=[]\n",
    "    factor2=[]\n",
    "    sum1 = 0\n",
    "    sum2 = 0\n",
    "    \n",
    "    for i in range(1,a):\n",
    "        if a%i==0:\n",
    "            factor1.append(i)\n",
    "            sum1 += i\n",
    "        \n",
    "    for j in range(1,b):\n",
    "        if b%j==0:\n",
    "            factor2.append(j)\n",
    "            sum2 += j\n",
    "    \n",
    "    if a == sum2 and b == sum1:\n",
    "        print(\"Valentine Number Pair\")\n",
    "        \n",
    "    else:\n",
    "        print(\"This pair of values is not a Valentine Number Pair!\")\n",
    "\n"
   ]
  },
  {
   "cell_type": "code",
   "execution_count": 83,
   "metadata": {},
   "outputs": [
    {
     "name": "stdout",
     "output_type": "stream",
     "text": [
      "Valentine Number Pair\n"
     ]
    }
   ],
   "source": [
    "# Test code\n",
    "\n",
    "IsValentinePair(220,284)"
   ]
  },
  {
   "cell_type": "markdown",
   "metadata": {},
   "source": [
    "## Question 2 \n",
    "- 25 points"
   ]
  },
  {
   "cell_type": "markdown",
   "metadata": {},
   "source": [
    "### Longest Common Suffix\n",
    "\n",
    "We say a string x is a \"proper suffix\" of a string y if there exists a non-empty substring z such that y = zx.  \n",
    "\n",
    "For example, \"abra\" is a proper suffix of \"bracadabra\".  \n",
    "\n",
    "For two strings y1 and y2, we say a string x is the \"longest common suffix\" of y1 and y2 if x is a \"proper suffix\" of both y1 and y2, and there is no longer string x' such that x' is both a \"proper suffix\" of both y1 and y2. \n",
    "\n",
    "For example, \"dabra\" is the longest common suffix of \"abracadabra\" and \"abraccdabra\"\n",
    "\n",
    "Write a function \"LongestCommonSuffix(S)\" to take as input a list of strings, and print out the longest common suffix of ALL the strings in S.  Note that the longest common suffix could be an empty string.\n",
    "\n",
    "For example, for S = ['abcdabc', 'bbabc', 'dddabc','aaabc'],  your function should return 'abc' as the longest common suffix of S.  "
   ]
  },
  {
   "cell_type": "markdown",
   "metadata": {},
   "source": [
    "- Your Pseudo-code here\n",
    "Make a for loop from the back[::-1] of each word in the list\n",
    "If the character is the same, return true append it to a string\n",
    "If the character is not the same, return False."
   ]
  },
  {
   "cell_type": "code",
   "execution_count": 5,
   "metadata": {
    "scrolled": true
   },
   "outputs": [],
   "source": [
    "# Your code here\n",
    "\n",
    "def LongestCommonSuffix(lis):\n",
    "    a = list(lis)\n",
    "    a.sort()\n",
    "    lst2 = sorted(a, key=len,reverse=True) \n",
    "    createWordLists = []\n",
    "    for i in range(len(lst2)):\n",
    "        tmp = []\n",
    "        rever = ''.join(reversed(lst2[i]))\n",
    "        \n",
    "        for li in rever:\n",
    "            tmp.append(li)\n",
    "        createWordLists.append(tmp)\n",
    "    count = 0\n",
    "    for i in range(len(createWordLists[-1])):\n",
    "        a = [createWordLists[k][i] for k in range(len(createWordLists))]\n",
    "        b = ''.join(a)\n",
    "\n",
    "\n",
    "        c =  b == len(b) * a[0]\n",
    "        if c:\n",
    "            count+=1\n",
    "    suffix = \"\"\n",
    "    for i in range(count):\n",
    "        suffix+=createWordLists[-1][i]\n",
    "    return ''.join(reversed(suffix))\n",
    "\n",
    "\n",
    "# print(longest_common_suffix([\"abcdabc\",\"bbabc\",\"dddabc\",\"aaabc\"]))\n",
    "        "
   ]
  },
  {
   "cell_type": "code",
   "execution_count": 6,
   "metadata": {},
   "outputs": [
    {
     "data": {
      "text/plain": [
       "'bc'"
      ]
     },
     "execution_count": 6,
     "metadata": {},
     "output_type": "execute_result"
    }
   ],
   "source": [
    "# Test code\n",
    "\n",
    "LongestCommonSuffix(['abcdabc', 'bbabc', 'dddaac','aaabc'])"
   ]
  },
  {
   "cell_type": "markdown",
   "metadata": {},
   "source": [
    "## Question 3\n",
    "- 25 points\n",
    "\n",
    "### String Processing\n",
    "\n",
    "Write a function to take as input a string of words seperated by space. Your function would return a list of the same set of words sorted in ascending order by word length. For two words of the same length, order them in ascending order alphabecially, i.e., alphabetically, \"abc\" < \"acb\", just as the word order in dictionary. \n",
    "\n"
   ]
  },
  {
   "cell_type": "markdown",
   "metadata": {},
   "source": [
    "- Your Pseudo-code here\n",
    "Get the length of the list to determine how many times you will make a for loop\n",
    "Make a for loop for the length of the list\n",
    "Make a while loop to compare the length of each word\n",
    "Put each word into a dictionary with the key 'name'\n",
    "Sort the dictionary by using 'list = sorted(list, key = lambda x: x['name'])'"
   ]
  },
  {
   "cell_type": "code",
   "execution_count": 84,
   "metadata": {},
   "outputs": [],
   "source": [
    "# def list_to_dict(list):\n",
    "#     return {'name':list}\n",
    "\n",
    "def LongestCommonSuffix(lis):\n",
    "    for i in range(1, len(lis)): \n",
    "        temp = lis[i] \n",
    "  \n",
    "        # Insert s[j] at its correct position \n",
    "        j = i - 1\n",
    "        while j >= 0 and len(temp) < len(lis[j]): \n",
    "            lis[j + 1] = lis[j] \n",
    "            j -= 1\n",
    "  \n",
    "        lis[j + 1] = temp \n",
    "    \n",
    "    return lis\n",
    "        "
   ]
  },
  {
   "cell_type": "code",
   "execution_count": 85,
   "metadata": {},
   "outputs": [
    {
     "name": "stdout",
     "output_type": "stream",
     "text": [
      "['for', 'data', 'quiz', 'date', 'Python', 'science']\n"
     ]
    }
   ],
   "source": [
    "lis2 = LongestCommonSuffix(['Python', 'for', 'data','science', 'quiz', 'date'])\n",
    "print(lis2)"
   ]
  },
  {
   "cell_type": "markdown",
   "metadata": {},
   "source": [
    "## Question 4\n",
    "- 25 points"
   ]
  },
  {
   "cell_type": "markdown",
   "metadata": {},
   "source": [
    "### Vectorization & Broadcasting\n",
    "\n",
    "\n",
    "Suppose we use a list $T=[t_1,t_2,...t_n]$ to record the body temperature of a person for $n$ days. We say there is an alert if the starting body temperature is above 37 and there has been a subsequent rise in body tempeture for two days straight, i.e., there exists $1\\le i\\le n-2$ such that $t_i > 37$ and $t_i < t_{i+1} <t_{i+2}$. Note that if a run of temperature rise is longer than two days, each such a starting day i should raise an alert. \n",
    "\n",
    "\n"
   ]
  },
  {
   "cell_type": "markdown",
   "metadata": {},
   "source": [
    "### 4.1 \n",
    "\n",
    "Write a function \"TemperatureAbove()\" to take as input a list of body temperature of a person and return the number of days that body temperature is above 37. \n",
    "\n",
    "Your function should use Numpy's vectorization feature. "
   ]
  },
  {
   "cell_type": "code",
   "execution_count": 17,
   "metadata": {
    "scrolled": true
   },
   "outputs": [],
   "source": [
    "# Your code here\n",
    "import numpy as np\n",
    "\n",
    "def TemperatureAbove(T):\n",
    "    memo = 0\n",
    "    duration = 0\n",
    "    \n",
    "    for i in range(len(T)):        \n",
    "        if T[i] > 37 and T[i-1] < T[i]:\n",
    "            duration += 1\n",
    "        \n",
    "        else:\n",
    "            duration = 0\n",
    "\n",
    "        if duration >= 3:\n",
    "            memo += 1\n",
    "\n",
    "    return memo\n",
    "    "
   ]
  },
  {
   "cell_type": "code",
   "execution_count": 18,
   "metadata": {},
   "outputs": [
    {
     "name": "stdout",
     "output_type": "stream",
     "text": [
      "2\n"
     ]
    }
   ],
   "source": [
    "# Test data\n",
    "\n",
    "T = [36.7, 36.8, 36.5, 37.1, 37.3, 37.4, 37.2, 36.9, 37.2, 37.3, 37.4, 37.1, 36.7, 36.8, 36.9]\n",
    "print(TemperatureAbove(T))\n"
   ]
  },
  {
   "cell_type": "markdown",
   "metadata": {},
   "source": [
    "### 4.2\n",
    "\n",
    "Write a function \"TemperatureAlert()\" to take as input a list of body temperature of a person and return the number of days that there should be an alert\n",
    "\n",
    "Your function should use Numpy's vectorization feature. "
   ]
  },
  {
   "cell_type": "markdown",
   "metadata": {},
   "source": [
    "Declare count = 0\n",
    "Make a for loop to read through the list\n",
    "Make an if statement if T(i) > 37\n",
    "Read the next index, if the next index(T[i+1] is also T > 37 return True\n",
    "If it's T[i+1] <= 37 return False\n",
    "If T[i+1] > 37, then check if T[i+2] > 37, increase count\n"
   ]
  },
  {
   "cell_type": "code",
   "execution_count": null,
   "metadata": {},
   "outputs": [],
   "source": [
    "# Your code here\n",
    "\n",
    "def TemperatureAlert(T):\n",
    "    "
   ]
  },
  {
   "cell_type": "code",
   "execution_count": null,
   "metadata": {},
   "outputs": [],
   "source": [
    "# Test data\n",
    "\n",
    "T = [36.7, 36.8, 36.5, 37.1, 37.3, 37.4, 37.2, 36.9, 37.2, 37.3, 37.4, 37.1, 36.7, 36.8, 36.9]\n",
    "\n"
   ]
  },
  {
   "cell_type": "code",
   "execution_count": null,
   "metadata": {},
   "outputs": [],
   "source": []
  }
 ],
 "metadata": {
  "kernelspec": {
   "display_name": "Python 3",
   "language": "python",
   "name": "python3"
  },
  "language_info": {
   "codemirror_mode": {
    "name": "ipython",
    "version": 3
   },
   "file_extension": ".py",
   "mimetype": "text/x-python",
   "name": "python",
   "nbconvert_exporter": "python",
   "pygments_lexer": "ipython3",
   "version": "3.7.4"
  }
 },
 "nbformat": 4,
 "nbformat_minor": 2
}
